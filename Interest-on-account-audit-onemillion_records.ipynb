{
 "cells": [
  {
   "cell_type": "markdown",
   "metadata": {},
   "source": [
    "## Banking & Financial Audits through parallel computing DPC++\n",
    "\n",
    "The following code is part of our article submission to Codeproject & INTEL Devmesh.\n",
    "\n",
    "To read the article visit here :https://devmesh.intel.com/projects/financial-audits-data-processing-with-dpc-millions-of-records-in-seconds\n",
    "\n",
    "DPC++ is amazingly fast and efficient and allows you to use CPU ,GPU or FPGA Devices locally or on Intel's cloud. \n",
    "\n",
    "\n",
    "### Demo Quick Data Processing up to millions of records in seconds \n",
    "In our demo we show you how you can process more than 1 million records using DPC++  in just a couple of seconds or minutes depending on the structure and arrangement of your data .\n",
    "\n",
    "Note processing times depend on the complexity and type of alogrithms you use ."
   ]
  },
  {
   "cell_type": "markdown",
   "metadata": {},
   "source": [
    "### Data Processing Scenario:\n",
    "Imagine that you are a bank and you have over 1 million customers who have bank accounts with you.\n",
    "\n",
    "Each individual account holder has a different amount of bank balance . \n",
    "\n",
    "As a Bank every month you pay variable interest to the account holders such as:\n",
    "\n",
    "* 0.01% for balances from \\\\$1.00   upto  \\\\$50,000 \n",
    "\n",
    "* 0.02% for balances from \\\\$50,001 upto  \\\\$100,000      \n",
    "\n",
    "* 0.03% for balances from \\\\$100,001 upto \\\\$400,000\n",
    "\n",
    "* 0.04% for balances from \\\\$400,001 upto \\\\$700,000    \n",
    "\n",
    "* 0.05% for balances from \\\\$700,001 upto \\\\$1000,000 \n",
    "\n",
    "\n",
    "Note: The interest that is paid  depends on how much balance your customers have in there bank account  and so on.\n",
    "\n",
    "### Your Job As The Banks Independent Auditor :\n",
    "Is to calculate the amount of interest the bank paid to each individual user and to balance it against the total interest paid by the bank .\n"
   ]
  },
  {
   "cell_type": "markdown",
   "metadata": {},
   "source": [
    "### To Build and Save The Code to the lab folder\n",
    "Select the grey cell below and click Run ▶ to compile and execute the code above:"
   ]
  },
  {
   "cell_type": "code",
   "execution_count": 9,
   "metadata": {},
   "outputs": [
    {
     "name": "stdout",
     "output_type": "stream",
     "text": [
      "Overwriting lab/simple_interest_audit.cpp\n"
     ]
    }
   ],
   "source": [
    "%%writefile lab/simple_interest_audit.cpp\n",
    "\n",
    "//==============================================================\n",
    "// Copyright © 2021 Intel Corporation\n",
    "// Author:Prilvesh Krishna\n",
    "// Email:prilcool@hotmail.com    \n",
    "// Linkedin:https://www.linkedin.com/in/prilvesh-k-4349ba54/\n",
    "// Date:03/02/2020        \n",
    "// SPDX-License-Identifier: MIT\n",
    "// =============================================================\n",
    "\n",
    "#include <CL/sycl.hpp>\n",
    "#include <array>\n",
    "#include <iostream>\n",
    "#include <cmath>\n",
    "#include<iomanip>\n",
    "#include<limits>\n",
    "#include <chrono>\n",
    "\n",
    "using namespace sycl;\n",
    "\n",
    "\n",
    "\n",
    "int main() {\n",
    "    auto start_time = std::chrono::high_resolution_clock::now();\n",
    "    int N = 1000000;\n",
    "    double interest_rate_1=0.01;\n",
    "    double interest_rate_2=0.02;\n",
    "    double interest_rate_3=0.03;\n",
    "    double interest_rate_4=0.04;\n",
    "    double interest_rate_5=0.05;\n",
    "    double interest_rate_6=0.07;\n",
    "    \n",
    "    queue q(cpu_selector{});\n",
    "    std::cout << \"Device: \" << q.get_device().get_info<info::device::name>() << std::endl;\n",
    "\n",
    "    double* data = malloc_shared<double>(N, q);\n",
    "    double* bank_interest_rates = malloc_shared<double>(N, q);\n",
    "    double* rate_used= malloc_shared<double>(N, q);\n",
    "\n",
    "    for (int i = 1; i < N; i++) {\n",
    "        i = i ;\n",
    "    }\n",
    "\n",
    "        q.parallel_for(range<1>(N), [=](id<1> i) {\n",
    "            double apply_interest_rate=0.00;\n",
    "            data[i] = (double)i + 0.00;\n",
    "            \n",
    "            if(i >= 1 && i <= 50000){\n",
    "               apply_interest_rate=interest_rate_1; \n",
    "            }else if(i >=50001 && i <= 100000){\n",
    "               apply_interest_rate=interest_rate_2; \n",
    "            }else if(i >=100001 && i <= 400000){\n",
    "               apply_interest_rate=interest_rate_3; \n",
    "            }else if(i >=400001 && i <= 700000){\n",
    "               apply_interest_rate=interest_rate_4; \n",
    "            }else if (i >=700001 && i <= 1000000){\n",
    "               apply_interest_rate=interest_rate_5; \n",
    "            }else if (i >=1000001){\n",
    "               apply_interest_rate=interest_rate_6; \n",
    "            }\n",
    "            else{\n",
    "               apply_interest_rate=0.00; \n",
    "            }\n",
    "            \n",
    "            \n",
    "            bank_interest_rates[i] =(double)i* apply_interest_rate;\n",
    "            rate_used[i]=apply_interest_rate;\n",
    "            }).wait();\n",
    "\n",
    "\n",
    "            std::cout << \"Writing Computations to file \" << std::endl;\n",
    "            std::ofstream out(\"parralel_one_million_records_for_audit.txt\", std::ios::app);\n",
    "\n",
    "            for (int i = 1; i < N; i++) {\n",
    "                out << \"Record ID:00\" << i << \" Original Balance: \" << std::fixed << std::setprecision(2) << data[i] << \" Addon Interest: \" << bank_interest_rates[i] <<\" Interest Rate used %:\" <<rate_used[i]<<std::endl;\n",
    "            }\n",
    "\n",
    "   \n",
    "           std::cout << \"Processing complete you can now refer to the audit file on the left hand side named parallel_interest_on_account_audit.txt \" << std::endl;\n",
    "           auto current_time = std::chrono::high_resolution_clock::now();\n",
    "\n",
    "           std::cout << \"Processing completed in  \" << std::chrono::duration_cast<std::chrono::seconds>(current_time - start_time).count() << \" seconds\" << std::endl;\n",
    "\n",
    "            free(data, q);\n",
    "            free(bank_interest_rates, q);\n",
    "            free(rate_used, q);\n",
    "    \n",
    "            return 0;\n",
    "}\n",
    "\n",
    "\n",
    "\n",
    "\n",
    "\n",
    "\n",
    "\n",
    "\n"
   ]
  },
  {
   "cell_type": "code",
   "execution_count": 10,
   "metadata": {},
   "outputs": [
    {
     "name": "stdout",
     "output_type": "stream",
     "text": [
      "Job has been submitted to Intel(R) DevCloud and will execute soon.\n",
      "\n",
      " If you do not see result in 60 seconds, please restart the Jupyter kernel:\n",
      " Kernel -> 'Restart Kernel and Clear All Outputs...' and then try again\n",
      "\n",
      "Job ID                    Name             User            Time Use S Queue\n",
      "------------------------- ---------------- --------------- -------- - -----\n",
      "789700.v-qsvr-1            ...ub-singleuser u60146          00:03:38 R jupyterhub     \n",
      "789841.v-qsvr-1            run_audit.sh     u60146                 0 Q batch          \n",
      "\n",
      "Waiting for Output ██████████████████████ Done⬇\n",
      "\n",
      "########################################################################\n",
      "#      Date:           Thu Feb  4 19:01:43 PST 2021\n",
      "#    Job ID:           789841.v-qsvr-1.aidevcloud\n",
      "#      User:           u60146\n",
      "# Resources:           neednodes=1:ppn=2,nodes=1:ppn=2,walltime=06:00:00\n",
      "########################################################################\n",
      "\n",
      "## u60146 is compiling your interest on account audit program.\n",
      "Device: Intel(R) Xeon(R) Gold 6128 CPU @ 3.40GHz\n",
      "Writing Computations to file \n",
      "Processing complete you can now refer to the audit file on the left hand side named parallel_interest_on_account_audit.txt \n",
      "Processing completed in  4 seconds\n",
      "\n",
      "########################################################################\n",
      "# End of output for job 789841.v-qsvr-1.aidevcloud\n",
      "# Date: Thu Feb  4 19:02:03 PST 2021\n",
      "########################################################################\n",
      "\n",
      "Job Completed in 22 seconds.\n"
     ]
    }
   ],
   "source": [
    "! chmod 755 q; chmod 755 run_audit.sh;if [ -x \"$(command -v qsub)\" ]; then ./q run_audit.sh; else ./run_audit.sh; fi "
   ]
  },
  {
   "cell_type": "markdown",
   "metadata": {},
   "source": [
    "_If the Jupyter cells are not responsive or if they error out when you compile the code samples, please restart the Jupyter Kernel: \n",
    "\"Kernel->Restart Kernel and Clear All Outputs\" and compile the code samples again_"
   ]
  },
  {
   "cell_type": "code",
   "execution_count": null,
   "metadata": {},
   "outputs": [],
   "source": []
  }
 ],
 "metadata": {
  "kernelspec": {
   "display_name": "Python 3.7 (Intel® oneAPI)",
   "language": "python",
   "name": "c009-intel_distribution_of_python_3_oneapi-beta05-python"
  },
  "language_info": {
   "codemirror_mode": {
    "name": "ipython",
    "version": 3
   },
   "file_extension": ".py",
   "mimetype": "text/x-python",
   "name": "python",
   "nbconvert_exporter": "python",
   "pygments_lexer": "ipython3",
   "version": "3.7.9"
  },
  "toc": {
   "base_numbering": 1,
   "nav_menu": {},
   "number_sections": true,
   "sideBar": true,
   "skip_h1_title": false,
   "title_cell": "Table of Contents",
   "title_sidebar": "Contents",
   "toc_cell": false,
   "toc_position": {
    "height": "525.6px",
    "left": "28px",
    "top": "137.8px",
    "width": "301.109px"
   },
   "toc_section_display": true,
   "toc_window_display": true
  },
  "widgets": {
   "application/vnd.jupyter.widget-state+json": {
    "state": {},
    "version_major": 2,
    "version_minor": 0
   }
  }
 },
 "nbformat": 4,
 "nbformat_minor": 4
}
